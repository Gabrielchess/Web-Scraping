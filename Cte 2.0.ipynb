{
 "cells": [
  {
   "cell_type": "code",
   "execution_count": 71,
   "id": "000ffd26",
   "metadata": {},
   "outputs": [],
   "source": [
    "import pyautogui\n",
    "import time\n",
    "import calendar\n",
    "import pdfkit\n",
    "\n",
    "from selenium import webdriver\n",
    "from selenium.webdriver.common.keys import Keys\n",
    "from datetime import datetime, timedelta\n",
    "from selenium.webdriver.common.action_chains import ActionChains\n",
    "from selenium.common.exceptions import WebDriverException"
   ]
  },
  {
   "cell_type": "code",
   "execution_count": 79,
   "id": "7e6fad94",
   "metadata": {},
   "outputs": [],
   "source": [
    "#Funções\n",
    "def Entrar_site(x):\n",
    "    navegador.get(x)\n",
    "    \n",
    "def Clicar(Xpath):\n",
    "    navegador.find_element_by_xpath(Xpath).click()\n",
    "\n",
    "def Leitor(Xpath):\n",
    "    navegador.find_element_by_xpath(Xpath).get_attribute(\"innerHTML\").splitlines()[0]\n",
    "    \n",
    "def Escrever(Xpath,dizer):\n",
    "    Text = navegador.find_element_by_xpath(Xpath)\n",
    "    Text.click()\n",
    "    Text.clear();\n",
    "    Text.send_keys(dizer)\n",
    "\n",
    "def verificador():\n",
    "    foo = '/html/body/table[2]/tbody/tr[1]/td/div/table/tbody/tr[4]/td/table/tbody/tr/td/table/tbody/tr[2]/td[3]/a'\n",
    "    first_dt = navegador.find_element_by_xpath(foo).get_attribute(\"innerHTML\").splitlines()[0]\n",
    "    Clicar('/html/body/table[2]/tbody/tr[1]/td/div/table/tbody/tr[1]/td/table/tbody/tr/td[9]/table/tbody/tr/td[3]/button')\n",
    "    time.sleep(2)\n",
    "    second_dt= navegador.find_element_by_xpath(foo).get_attribute(\"innerHTML\").splitlines()[0]\n",
    "\n",
    "    if first_dt == second_dt:\n",
    "        verificador_pag = 0\n",
    "    else:\n",
    "        verificador_pag = 1\n",
    "        \n",
    "#Impressão de pdf automática\n",
    "def impressao():\n",
    "    x = 2\n",
    "    while (x<=26):\n",
    "        try:\n",
    "            foo = '/html/body/table[2]/tbody/tr[1]/td/div/table/tbody/tr[4]/td/table/tbody/tr/td/table/tbody/tr['+str(x)+']/td[14]/a'\n",
    "            DT = '/html/body/table[2]/tbody/tr[1]/td/div/table/tbody/tr[4]/td/table/tbody/tr/td/table/tbody/tr['+str(x)+']/td[3]/a'\n",
    "            transport = navegador.find_element_by_xpath(foo).get_attribute(\"innerHTML\").splitlines()[0]\n",
    "            if (transport in transportadora):\n",
    "                #Clicar no Cte\n",
    "                DT = Clicar(DT)\n",
    "                #Imprimir todos os  Cte's\n",
    "                time.sleep(2)\n",
    "                Clicar('/html/body/div[4]/div/table/tbody/tr[2]/td[2]/div/table/tbody/tr[4]/td/table/tbody/tr[2]/td/div/div[1]/table/tbody/tr[21]/td[2]/a')\n",
    "                time.sleep(1)\n",
    "                navegador.switch_to.window(navegador.window_handles[0])\n",
    "                Clicar('/html/body/div[4]/div/table/tbody/tr[2]/td[2]/div/table/tbody/tr[2]/td/table/tbody/tr/td/table/tbody/tr/td[2]/table/tbody/tr[1]/td[2]/button')            \n",
    "                x+=1\n",
    "            else:\n",
    "                x+=1\n",
    "        except:\n",
    "            pass\n",
    "            break"
   ]
  },
  {
   "cell_type": "code",
   "execution_count": 26,
   "id": "99f77435",
   "metadata": {},
   "outputs": [
    {
     "name": "stdout",
     "output_type": "stream",
     "text": [
      "Digite nome da transportadora:OLM TRANSPORTE\n",
      "Digite nome da transportadora:GOUVEA\n",
      "Digite nome da transportadora:\n",
      "Digite nome da transportadora:\n"
     ]
    },
    {
     "data": {
      "text/plain": [
       "''"
      ]
     },
     "execution_count": 26,
     "metadata": {},
     "output_type": "execute_result"
    }
   ],
   "source": [
    "transportadora = []\n",
    "x = 0\n",
    "while x != '':\n",
    "    x = str(input(\"Digite nome da transportadora:\"))\n",
    "    transportadora.append(x)\n",
    "(input(\"Digite nome da transportadora:\"))"
   ]
  },
  {
   "cell_type": "code",
   "execution_count": 62,
   "id": "7e103c79",
   "metadata": {},
   "outputs": [
    {
     "data": {
      "text/plain": [
       "['OLM TRANSPORTE', 'GOUVEA', '']"
      ]
     },
     "execution_count": 62,
     "metadata": {},
     "output_type": "execute_result"
    }
   ],
   "source": [
    "transportadora"
   ]
  },
  {
   "cell_type": "code",
   "execution_count": 73,
   "id": "525eb942",
   "metadata": {},
   "outputs": [],
   "source": [
    "#Variáveis extraídas\n",
    "site = \"http://hindalco.simfrete.com.br/\"\n",
    "\n",
    "#Dia de criação da tabela\n",
    "Hoje = datetime.today()\n",
    "Hoje_str = (str(Hoje.day)+'/'+str(Hoje.month)+'/'+str(Hoje.year))\n",
    "\n",
    "#Vencimento\n",
    "Yesterday = Hoje - timedelta(days=1)\n",
    "Yesterday = (str(Yesterday.day)+'/0'+str(Yesterday.month)+'/'+str(Yesterday.year))"
   ]
  },
  {
   "cell_type": "code",
   "execution_count": 85,
   "id": "042ce4e9",
   "metadata": {},
   "outputs": [],
   "source": [
    "#Chamar Navegador\n",
    "navegador = webdriver.Chrome()\n",
    "\n",
    "Entrar_site(site)\n",
    "\n",
    "#Acessar sistema de gestão\n",
    "Sistema_de_gestao = '/html/body/table[2]/tbody/tr[1]/td/div/div/p[1]/a'\n",
    "Clicar(Sistema_de_gestao)\n",
    "\n",
    "#Confirmar segurança\n",
    "Ocultar_Detalhes = '/html/body/div/div[2]/button[3]'\n",
    "Clicar(Ocultar_Detalhes)\n",
    "Permitir_Acesso = '/html/body/div/div[3]/p[2]/a'\n",
    "Clicar(Permitir_Acesso)\n",
    "\n",
    "#Empresa\n",
    "empresa = '/html/body/table[2]/tbody/tr[1]/td/div/center/form/table/tbody/tr[2]/td/input'\n",
    "Escrever(empresa,'hindalco')\n",
    "\n",
    "# #Usuário\n",
    "usuario = '/html/body/table[2]/tbody/tr[1]/td/div/center/form/table/tbody/tr[3]/td/input'\n",
    "Escrever(usuario,'gabriel.senra')\n",
    "\n",
    "#Senha\n",
    "senha = '/html/body/table[2]/tbody/tr[1]/td/div/center/form/table/tbody/tr[4]/td/input'\n",
    "Escrever(senha,'12345678')\n",
    "\n",
    "#Entrar\n",
    "entrar = '/html/body/table[2]/tbody/tr[1]/td/div/center/form/table/tbody/tr[5]/td/input'\n",
    "Clicar(entrar)\n",
    "\n",
    "#Operação\n",
    "time.sleep(2)\n",
    "Clicar('/html/body/table[1]/tbody/tr/td[2]/div/table/tbody/tr/td[1]/div/table/tbody/tr/td[2]')\n",
    "\n",
    "#Documento de Transporte\n",
    "time.sleep(1)\n",
    "Clicar('/html/body/div/div/table/tbody/tr[2]/td[2]/div/div/table/tbody/tr[5]/td')\n",
    "\n",
    "#Filtrar Documentos\n",
    "time.sleep(1)\n",
    "Clicar('/html/body/table[2]/tbody/tr[1]/td/div/table/tbody/tr[1]/td/table/tbody/tr/td[3]/button')\n",
    "\n",
    "#Situação/Workflow\n",
    "Clicar('/html/body/div[4]/div/table/tbody/tr[1]/td/table/tbody/tr[2]/td/div/div[1]/div/table/tbody/tr[4]/td[2]/select')\n",
    "Clicar('/html/body/div[4]/div/table/tbody/tr[1]/td/table/tbody/tr[2]/td/div/div[1]/div/table/tbody/tr[4]/td[2]/select/option[5]')\n",
    "\n",
    "#Situação/Workflow\n",
    "Clicar('/html/body/div[4]/div/table/tbody/tr[1]/td/table/tbody/tr[2]/td/div/div[1]/div/table/tbody/tr[4]/td[2]/select')\n",
    "Clicar('/html/body/div[4]/div/table/tbody/tr[1]/td/table/tbody/tr[2]/td/div/div[1]/div/table/tbody/tr[4]/td[2]/select/option[5]')\n",
    "\n",
    "Escrever('/html/body/div[4]/div/table/tbody/tr[1]/td/table/tbody/tr[2]/td/div/div[1]/div/table/tbody/tr[12]/td/table/tbody/tr/td[1]/table/tbody/tr/td[2]/table/tbody/tr/td[1]/input','01')\n",
    "\n",
    "#Escrever('/html/body/div[4]/div/table/tbody/tr[1]/td/table/tbody/tr[2]/td/div/div[1]/div/table/tbody/tr[12]/td/table/tbody/tr/td[1]/table/tbody/tr/td[4]/table/tbody/tr/td[1]/input','')\n",
    "Escrever('/html/body/div[4]/div/table/tbody/tr[1]/td/table/tbody/tr[2]/td/div/div[1]/div/table/tbody/tr[12]/td/table/tbody/tr/td[2]/table/tbody/tr/td[2]/table/tbody/tr/td[1]/input',Yesterday)\n",
    "Escrever('/html/body/div[4]/div/table/tbody/tr[1]/td/table/tbody/tr[2]/td/div/div[1]/div/table/tbody/tr[12]/td/table/tbody/tr/td[2]/table/tbody/tr/td[4]/table/tbody/tr/td[1]/input',Yesterday)\n",
    "\n",
    "#Aplicar Filtro\n",
    "Clicar('/html/body/div[4]/div/table/tbody/tr[2]/td/table/tbody/tr/td[1]/button')\n",
    "\n",
    "time.sleep(1)\n",
    "#Imrimir\n",
    "Clicar('/html/body/table[2]/tbody/tr[1]/td/div/table/tbody/tr[1]/td/table/tbody/tr/td[8]/button/table/tbody/tr/td[2]')\n",
    "\n",
    "#Selecionar Relatório\n",
    "time.sleep(1)\n",
    "Clicar('/html/body/div[4]/div/table/tbody/tr[2]/td[2]/div/table/tbody/tr[2]/td/table/tbody/tr/td/table/tbody/tr[1]/td/table/tbody/tr/td[2]/table/tbody/tr/td/select')\n",
    "\n",
    "#Espelho de conhecimento\n",
    "Clicar('/html/body/div[4]/div/table/tbody/tr[2]/td[2]/div/table/tbody/tr[2]/td/table/tbody/tr/td/table/tbody/tr[1]/td/table/tbody/tr/td[2]/table/tbody/tr/td/select/option[2]')\n",
    "\n",
    "#Imprimir\n",
    "Clicar('/html/body/div[4]/div/table/tbody/tr[2]/td[2]/div/table/tbody/tr[1]/td/table/tbody/tr/td/table/tbody/tr/td[1]/table/tbody/tr/td[2]/button')\n",
    "Clicar('/html/body/div[4]/div/table/tbody/tr[2]/td[2]/div/table/tbody/tr[1]/td/table/tbody/tr/td/table/tbody/tr/td[2]/table/tbody/tr/td/button')\n",
    "\n",
    "time.sleep(5)\n",
    "impressao()"
   ]
  },
  {
   "cell_type": "code",
   "execution_count": 1,
   "id": "0e4e8780",
   "metadata": {},
   "outputs": [],
   "source": [
    "# import shutil\n",
    "\n",
    "# path = r'C:\\Users\\James Bond\\Downloads'\n",
    "# second_path = r'C:\\Users\\James Bond\\Desktop\\Hindalco\\Marketing'\n",
    "\n",
    "# shutil.move(path+'\\Documentos de Transporte - Espelho de Conhecimentos.xls', second_path+'\\Docs.xls')\n",
    "\n",
    "# import pandas as pd\n",
    "# import numpy as np\n",
    "\n",
    "# #Leio o documento\n",
    "# CTe = pd.read_excel('Docs.xls', header = 0)\n",
    "\n",
    "# #Retiro espaços em branco\n",
    "# CTe.columns = CTe.columns.str.strip()\n",
    "\n",
    "# #Excluir as linhas MLGHI \n",
    "# CTe = CTe.drop(CTe.columns[[0,5,6,8,10,11,12]],axis=1)\n",
    "# CTe = CTe.dropna()\n",
    "\n",
    "# from datetime import date, timedelta\n",
    "\n",
    "# today = date.today()\n",
    "# weakday = str(date.weekday)\n",
    "\n",
    "# if weakday == 'Monday':\n",
    "#     yesterday = (date.today()-timedelta(3)).strftime('%d/%m/%Y')\n",
    "# else:\n",
    "#     yesterday = (date.today()-timedelta(1)).strftime('%d/%m/%Y')\n",
    "    \n",
    "# # Vamos inserir a data de protocolo\n",
    "# df2 = pd.DataFrame(np.array([['', '', '', '', '', '', '', ''],['', '', 'APROVADOS DO DIA', yesterday, '', '', '', '']]),columns=['Nº do D.T.', 'Chave CT-e', 'Notas Fiscais','Emissão','Prev. Vcto','R$ DT','Transportadora','Remetente'])    \n",
    "# CTe = pd.concat([CTe, df2])\n",
    "\n",
    "# CTe.to_excel('APROVADOS DO DIA 08.06.xlsx')"
   ]
  },
  {
   "cell_type": "code",
   "execution_count": 66,
   "id": "3239c378",
   "metadata": {},
   "outputs": [],
   "source": [
    "def impressao_geral():\n",
    "    impressao()\n",
    "    while str(verificador()) == 'Tem outra página!':\n",
    "        Clicar('/html/body/table[2]/tbody/tr[1]/td/div/table/tbody/tr[1]/td/table/tbody/tr/td[9]/table/tbody/tr/td[3]/button')\n",
    "        time.sleep(2)\n",
    "        impressao()"
   ]
  },
  {
   "cell_type": "code",
   "execution_count": 83,
   "id": "a8764b83",
   "metadata": {},
   "outputs": [],
   "source": [
    "impressao()"
   ]
  },
  {
   "cell_type": "code",
   "execution_count": 20,
   "id": "fc463844",
   "metadata": {},
   "outputs": [
    {
     "ename": "NameError",
     "evalue": "name 'first_dt' is not defined",
     "output_type": "error",
     "traceback": [
      "\u001b[1;31m---------------------------------------------------------------------------\u001b[0m",
      "\u001b[1;31mNameError\u001b[0m                                 Traceback (most recent call last)",
      "\u001b[1;32m<ipython-input-20-9c854199ef71>\u001b[0m in \u001b[0;36m<module>\u001b[1;34m\u001b[0m\n\u001b[1;32m----> 1\u001b[1;33m \u001b[0mprint\u001b[0m\u001b[1;33m(\u001b[0m\u001b[0mfirst_dt\u001b[0m\u001b[1;33m)\u001b[0m\u001b[1;33m\u001b[0m\u001b[1;33m\u001b[0m\u001b[0m\n\u001b[0m\u001b[0;32m      2\u001b[0m \u001b[0mprint\u001b[0m\u001b[1;33m(\u001b[0m\u001b[0msecond_dt\u001b[0m\u001b[1;33m)\u001b[0m\u001b[1;33m\u001b[0m\u001b[1;33m\u001b[0m\u001b[0m\n",
      "\u001b[1;31mNameError\u001b[0m: name 'first_dt' is not defined"
     ]
    }
   ],
   "source": [
    "print(first_dt)\n",
    "print(second_dt)"
   ]
  },
  {
   "cell_type": "code",
   "execution_count": 19,
   "id": "d55a8339",
   "metadata": {},
   "outputs": [
    {
     "data": {
      "text/plain": [
       "True"
      ]
     },
     "execution_count": 19,
     "metadata": {},
     "output_type": "execute_result"
    }
   ],
   "source": [
    "from selenium.common.exceptions import NoSuchElementException        \n",
    "def check_exists_by_xpath(xpath):\n",
    "    try:\n",
    "        navegador.find_element_by_xpath(xpath).click()\n",
    "    except NoSuchElementException:\n",
    "        return False\n",
    "    return True\n",
    "check_exists_by_xpath('/html/body/table[2]/tbody/tr[1]/td/div/table/tbody/tr[1]/td/table/tbody/tr/td[9]/table/tbody/tr/td[3]/button')"
   ]
  },
  {
   "cell_type": "code",
   "execution_count": 48,
   "id": "8cf86016",
   "metadata": {
    "scrolled": true
   },
   "outputs": [],
   "source": [
    "#Impressão de pdf automática\n",
    "def impressao():\n",
    "    x = 2\n",
    "    while (x<=26):\n",
    "        try:\n",
    "            foo = '/html/body/table[2]/tbody/tr[1]/td/div/table/tbody/tr[4]/td/table/tbody/tr/td/table/tbody/tr['+str(x)+']/td[14]/a'\n",
    "            DT = '/html/body/table[2]/tbody/tr[1]/td/div/table/tbody/tr[4]/td/table/tbody/tr/td/table/tbody/tr['+str(x)+']/td[3]/a'\n",
    "            transport = navegador.find_element_by_xpath(foo).get_attribute(\"innerHTML\").splitlines()[0]\n",
    "            if (transport in transportadora):\n",
    "                #Clicar no Cte\n",
    "                DT = Clicar(DT)\n",
    "                #Imprimir todos os  Cte's\n",
    "                time.sleep(2)\n",
    "                Clicar('/html/body/div[4]/div/table/tbody/tr[2]/td[2]/div/table/tbody/tr[4]/td/table/tbody/tr[2]/td/div/div[1]/table/tbody/tr[21]/td[2]/a')\n",
    "                time.sleep(1)\n",
    "                navegador.switch_to.window(navegador.window_handles[0])\n",
    "                Clicar('/html/body/div[4]/div/table/tbody/tr[2]/td[2]/div/table/tbody/tr[2]/td/table/tbody/tr/td/table/tbody/tr/td[2]/table/tbody/tr[1]/td[2]/button')            \n",
    "                x+=1\n",
    "            else:\n",
    "                x+=1\n",
    "        except:\n",
    "            pass\n",
    "            break"
   ]
  },
  {
   "cell_type": "code",
   "execution_count": 49,
   "id": "3b64ebdf",
   "metadata": {},
   "outputs": [],
   "source": [
    "impressao()"
   ]
  }
 ],
 "metadata": {
  "kernelspec": {
   "display_name": "Python 3",
   "language": "python",
   "name": "python3"
  },
  "language_info": {
   "codemirror_mode": {
    "name": "ipython",
    "version": 3
   },
   "file_extension": ".py",
   "mimetype": "text/x-python",
   "name": "python",
   "nbconvert_exporter": "python",
   "pygments_lexer": "ipython3",
   "version": "3.8.8"
  }
 },
 "nbformat": 4,
 "nbformat_minor": 5
}
