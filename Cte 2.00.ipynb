{
 "cells": [
  {
   "cell_type": "code",
   "execution_count": 7,
   "id": "000ffd26",
   "metadata": {},
   "outputs": [],
   "source": [
    "import pandas as pd\n",
    "import numpy as np\n",
    "import time\n",
    "import calendar\n",
    "import pdfkit\n",
    "import os\n",
    "import xlsxwriter\n",
    "import sys\n",
    "import os\n",
    "\n",
    "sys.path.append(os.path.abspath(r\"\\Users\\James Bond\\Desktop\\Tudo\\Hindalco\\Marketing\"))\n",
    "\n",
    "#from navegar import *\n",
    "from datetime import date, timedelta\n",
    "from os.path import expanduser as ospath\n",
    "from selenium import webdriver\n",
    "from selenium.webdriver.common.keys import Keys\n",
    "from datetime import datetime, timedelta\n",
    "from selenium.webdriver.common.action_chains import ActionChains\n",
    "from selenium.common.exceptions import WebDriverException\n",
    "from selenium.webdriver.support.ui import WebDriverWait\n",
    "from selenium.webdriver.support import expected_conditions as EC\n",
    "from selenium.webdriver.common.by import By\n",
    "from selenium.common.exceptions import TimeoutException"
   ]
  },
  {
   "cell_type": "code",
   "execution_count": 8,
   "id": "cb8b9654",
   "metadata": {},
   "outputs": [
    {
     "ename": "ModuleNotFoundError",
     "evalue": "No module named 'cte_processos'",
     "output_type": "error",
     "traceback": [
      "\u001b[1;31m---------------------------------------------------------------------------\u001b[0m",
      "\u001b[1;31mModuleNotFoundError\u001b[0m                       Traceback (most recent call last)",
      "\u001b[1;32m<ipython-input-8-22335e827e14>\u001b[0m in \u001b[0;36m<module>\u001b[1;34m\u001b[0m\n\u001b[1;32m----> 1\u001b[1;33m \u001b[1;32mfrom\u001b[0m \u001b[0mcte_processos\u001b[0m \u001b[1;32mimport\u001b[0m \u001b[1;33m*\u001b[0m\u001b[1;33m\u001b[0m\u001b[1;33m\u001b[0m\u001b[0m\n\u001b[0m",
      "\u001b[1;31mModuleNotFoundError\u001b[0m: No module named 'cte_processos'"
     ]
    }
   ],
   "source": [
    "from cte_processos import *"
   ]
  },
  {
   "cell_type": "code",
   "execution_count": 8,
   "id": "5b450717",
   "metadata": {},
   "outputs": [
    {
     "ename": "ModuleNotFoundError",
     "evalue": "No module named 'navegar'",
     "output_type": "error",
     "traceback": [
      "\u001b[1;31m---------------------------------------------------------------------------\u001b[0m",
      "\u001b[1;31mModuleNotFoundError\u001b[0m                       Traceback (most recent call last)",
      "\u001b[1;32m<ipython-input-8-aa09fdb5c6bf>\u001b[0m in \u001b[0;36m<module>\u001b[1;34m\u001b[0m\n\u001b[0;32m      4\u001b[0m \u001b[0msys\u001b[0m\u001b[1;33m.\u001b[0m\u001b[0mpath\u001b[0m\u001b[1;33m.\u001b[0m\u001b[0mappend\u001b[0m\u001b[1;33m(\u001b[0m\u001b[0mos\u001b[0m\u001b[1;33m.\u001b[0m\u001b[0mpath\u001b[0m\u001b[1;33m.\u001b[0m\u001b[0mabspath\u001b[0m\u001b[1;33m(\u001b[0m\u001b[1;34mr\"\\Users\\James Bond\\Desktop\\Tudo\\Hindalco\\Marketing\"\u001b[0m\u001b[1;33m)\u001b[0m\u001b[1;33m)\u001b[0m\u001b[1;33m\u001b[0m\u001b[1;33m\u001b[0m\u001b[0m\n\u001b[0;32m      5\u001b[0m \u001b[1;33m\u001b[0m\u001b[0m\n\u001b[1;32m----> 6\u001b[1;33m \u001b[1;32mfrom\u001b[0m \u001b[0mnavegar\u001b[0m \u001b[1;32mimport\u001b[0m \u001b[1;33m*\u001b[0m\u001b[1;33m\u001b[0m\u001b[1;33m\u001b[0m\u001b[0m\n\u001b[0m",
      "\u001b[1;31mModuleNotFoundError\u001b[0m: No module named 'navegar'"
     ]
    }
   ],
   "source": [
    "import sys\n",
    "import os\n",
    "\n",
    "sys.path.append(os.path.abspath(r\"\\Users\\James Bond\\Desktop\\Tudo\\Hindalco\\Marketing\"))\n",
    "\n",
    "from navegar import *"
   ]
  },
  {
   "cell_type": "code",
   "execution_count": 6,
   "id": "19c516f1",
   "metadata": {},
   "outputs": [],
   "source": [
    "def verificador():\n",
    "    esperar('/html/body/table[2]/tbody/tr[1]/td/div/table/tbody/tr[4]/td/table/tbody/tr/td/table/tbody/tr[2]/td[3]/a')\n",
    "    foo = '/html/body/table[2]/tbody/tr[1]/td/div/table/tbody/tr[4]/td/table/tbody/tr/td/table/tbody/tr[2]/td[3]/a'\n",
    "    first_dt = navegador.find_element_by_xpath(foo).get_attribute(\"innerHTML\").splitlines()[0]\n",
    "    esperar('/html/body/table[2]/tbody/tr[1]/td/div/table/tbody/tr[1]/td/table/tbody/tr/td[9]/table/tbody/tr/td[3]/button')\n",
    "    Clicar('/html/body/table[2]/tbody/tr[1]/td/div/table/tbody/tr[1]/td/table/tbody/tr/td[9]/table/tbody/tr/td[3]/button')\n",
    "    esperar('/html/body/table[2]/tbody/tr[1]/td/div/table/tbody/tr[4]/td/table/tbody/tr/td/table/tbody/tr[2]/td[3]/a')\n",
    "    second_dt = navegador.find_element_by_xpath(foo).get_attribute(\"innerHTML\").splitlines()[0]\n",
    "    verificador_pag = int\n",
    "    if first_dt == second_dt:\n",
    "        verificador_pag = 0\n",
    "        print('Não tem próxima pág')\n",
    "    else:\n",
    "        verificador_pag = 1\n",
    "        print('Tem próxima pág')\n",
    "        \n",
    "def impressao():\n",
    "    x = 2\n",
    "    while (x<=26):\n",
    "        try:\n",
    "            foo = '/html/body/table[2]/tbody/tr[1]/td/div/table/tbody/tr[4]/td/table/tbody/tr/td/table/tbody/tr['+str(x)+']/td[14]/a'\n",
    "            DT = '/html/body/table[2]/tbody/tr[1]/td/div/table/tbody/tr[4]/td/table/tbody/tr/td/table/tbody/tr['+str(x)+']/td[3]/a'\n",
    "            transport = navegador.find_element_by_xpath(foo).get_attribute(\"innerHTML\").splitlines()[0]\n",
    "            if (transport in transportadora):\n",
    "                #Clicar no Cte\n",
    "                DT = Clicar(DT)\n",
    "                #Imprimir todos os  Cte's\n",
    "                esperar('/html/body/div[4]/div/table/tbody/tr[2]/td[2]/div/table/tbody/tr[4]/td/table/tbody/tr[2]/td/div/div[1]/table/tbody/tr[21]/td[2]/a')\n",
    "                Clicar('/html/body/div[4]/div/table/tbody/tr[2]/td[2]/div/table/tbody/tr[4]/td/table/tbody/tr[2]/td/div/div[1]/table/tbody/tr[21]/td[2]/a')\n",
    "                time.sleep(3)\n",
    "                navegador.switch_to.window(navegador.window_handles[0])\n",
    "                Clicar('/html/body/div[4]/div/table/tbody/tr[2]/td[2]/div/table/tbody/tr[2]/td/table/tbody/tr/td/table/tbody/tr/td[2]/table/tbody/tr[1]/td[2]/button')            \n",
    "                x+=1\n",
    "            else:\n",
    "                x+=1\n",
    "        except:\n",
    "            pass\n",
    "            break\n",
    "            \n",
    "def esperar(Xpath):\n",
    "    wait.until(EC.visibility_of_element_located((By.XPATH, Xpath)))\n",
    "    \n",
    "def move_and_rename():\n",
    "    os.rename(r'C:\\Users\\James Bond\\Downloads\\Documentos de Transporte - Espelho de Conhecimentos ('+str(planilha_espelho)+').xls',r'C:\\Users\\James Bond\\Desktop\\Hindalco\\Marketing\\Planilha Espelho '+str(planilha_espelho)+'.xls')"
   ]
  },
  {
   "cell_type": "code",
   "execution_count": 7,
   "id": "99f77435",
   "metadata": {},
   "outputs": [
    {
     "name": "stdout",
     "output_type": "stream",
     "text": [
      "Digite nome da transportadora:OLM TRANSPORTE\n",
      "Digite nome da transportadora:\n",
      "Emissao de:22/06/2021\n",
      "Alterado até:22/06/2021\n"
     ]
    }
   ],
   "source": [
    "#Digite suas variáveis:\n",
    "site = \"http://hindalco.simfrete.com.br/\"\n",
    "verificador_pag = int\n",
    "\n",
    "transportadora = []\n",
    "x = 0\n",
    "while x != '':\n",
    "    x = str(input(\"Digite nome da transportadora:\"))\n",
    "    transportadora.append(x)\n",
    "alterado_de = (input(\"Emissao de:\"))\n",
    "alterado_de_mod = alterado_de.replace(\"/\", \".\")\n",
    "\n",
    "alterado_ate = (input(\"Alterado até:\"))"
   ]
  },
  {
   "cell_type": "code",
   "execution_count": 9,
   "id": "042ce4e9",
   "metadata": {},
   "outputs": [
    {
     "ename": "NameError",
     "evalue": "name 'Clicar' is not defined",
     "output_type": "error",
     "traceback": [
      "\u001b[1;31m---------------------------------------------------------------------------\u001b[0m",
      "\u001b[1;31mNameError\u001b[0m                                 Traceback (most recent call last)",
      "\u001b[1;32m<ipython-input-9-15745fa9d024>\u001b[0m in \u001b[0;36m<module>\u001b[1;34m\u001b[0m\n\u001b[0;32m      6\u001b[0m \u001b[1;31m#Acessar sistema de gestão\u001b[0m\u001b[1;33m\u001b[0m\u001b[1;33m\u001b[0m\u001b[1;33m\u001b[0m\u001b[0m\n\u001b[0;32m      7\u001b[0m \u001b[0mSistema_de_gestao\u001b[0m \u001b[1;33m=\u001b[0m \u001b[1;34m'/html/body/table[2]/tbody/tr[1]/td/div/div/p[1]/a'\u001b[0m\u001b[1;33m\u001b[0m\u001b[1;33m\u001b[0m\u001b[0m\n\u001b[1;32m----> 8\u001b[1;33m \u001b[0mClicar\u001b[0m\u001b[1;33m(\u001b[0m\u001b[0mSistema_de_gestao\u001b[0m\u001b[1;33m)\u001b[0m\u001b[1;33m\u001b[0m\u001b[1;33m\u001b[0m\u001b[0m\n\u001b[0m\u001b[0;32m      9\u001b[0m \u001b[1;33m\u001b[0m\u001b[0m\n\u001b[0;32m     10\u001b[0m \u001b[1;31m#Confirmar segurança\u001b[0m\u001b[1;33m\u001b[0m\u001b[1;33m\u001b[0m\u001b[1;33m\u001b[0m\u001b[0m\n",
      "\u001b[1;31mNameError\u001b[0m: name 'Clicar' is not defined"
     ]
    }
   ],
   "source": [
    "#Chamar Navegador\n",
    "navegador = webdriver.Chrome()\n",
    "wait = WebDriverWait(navegador, 10)\n",
    "\n",
    "Navegar.entrar_site(site)\n",
    "#Acessar sistema de gestão\n",
    "Sistema_de_gestao = '/html/body/table[2]/tbody/tr[1]/td/div/div/p[1]/a'\n",
    "Clicar(Sistema_de_gestao)\n",
    "\n",
    "#Confirmar segurança\n",
    "Ocultar_Detalhes = '/html/body/div/div[2]/button[3]'\n",
    "Clicar(Ocultar_Detalhes)\n",
    "Permitir_Acesso = '/html/body/div/div[3]/p[2]/a'\n",
    "Clicar(Permitir_Acesso)\n",
    "\n",
    "#Empresa\n",
    "empresa = '/html/body/table[2]/tbody/tr[1]/td/div/center/form/table/tbody/tr[2]/td/input'\n",
    "Escrever(empresa,'hindalco')\n",
    "\n",
    "# #Usuário\n",
    "usuario = '/html/body/table[2]/tbody/tr[1]/td/div/center/form/table/tbody/tr[3]/td/input'\n",
    "Escrever(usuario,'gabriel.senra')\n",
    "\n",
    "#Senha\n",
    "senha = '/html/body/table[2]/tbody/tr[1]/td/div/center/form/table/tbody/tr[4]/td/input'\n",
    "Escrever(senha,'12345678')\n",
    "\n",
    "#Entrar\n",
    "entrar = '/html/body/table[2]/tbody/tr[1]/td/div/center/form/table/tbody/tr[5]/td/input'\n",
    "Clicar(entrar)\n",
    "\n",
    "#Operação\n",
    "esperar('/html/body/table[1]/tbody/tr/td[2]/div/table/tbody/tr/td[1]/div/table/tbody/tr/td[2]')\n",
    "Clicar('/html/body/table[1]/tbody/tr/td[2]/div/table/tbody/tr/td[1]/div/table/tbody/tr/td[2]')\n",
    "\n",
    "#Documento de Transporte\n",
    "esperar('/html/body/div/div/table/tbody/tr[2]/td[2]/div/div/table/tbody/tr[5]/td')\n",
    "Clicar('/html/body/div/div/table/tbody/tr[2]/td[2]/div/div/table/tbody/tr[5]/td')\n",
    "\n",
    "#Filtrar Documentos\n",
    "esperar('/html/body/table[2]/tbody/tr[1]/td/div/table/tbody/tr[1]/td/table/tbody/tr/td[3]/button')\n",
    "Clicar('/html/body/table[2]/tbody/tr[1]/td/div/table/tbody/tr[1]/td/table/tbody/tr/td[3]/button')\n",
    "\n",
    "#Situação/Workflow\n",
    "Clicar('/html/body/div[4]/div/table/tbody/tr[1]/td/table/tbody/tr[2]/td/div/div[1]/div/table/tbody/tr[4]/td[2]/select')\n",
    "Clicar('/html/body/div[4]/div/table/tbody/tr[1]/td/table/tbody/tr[2]/td/div/div[1]/div/table/tbody/tr[4]/td[2]/select/option[5]')\n",
    "\n",
    "#Situação/Workflow\n",
    "Clicar('/html/body/div[4]/div/table/tbody/tr[1]/td/table/tbody/tr[2]/td/div/div[1]/div/table/tbody/tr[4]/td[2]/select')\n",
    "Clicar('/html/body/div[4]/div/table/tbody/tr[1]/td/table/tbody/tr[2]/td/div/div[1]/div/table/tbody/tr[4]/td[2]/select/option[5]')\n",
    "\n",
    "Escrever('/html/body/div[4]/div/table/tbody/tr[1]/td/table/tbody/tr[2]/td/div/div[1]/div/table/tbody/tr[12]/td/table/tbody/tr/td[1]/table/tbody/tr/td[2]/table/tbody/tr/td[1]/input','01')\n",
    "\n",
    "#Não sei oq faz\n",
    "Escrever('/html/body/div[4]/div/table/tbody/tr[1]/td/table/tbody/tr[2]/td/div/div[1]/div/table/tbody/tr[12]/td/table/tbody/tr/td[2]/table/tbody/tr/td[2]/table/tbody/tr/td[1]/input',alterado_de)\n",
    "Escrever('/html/body/div[4]/div/table/tbody/tr[1]/td/table/tbody/tr[2]/td/div/div[1]/div/table/tbody/tr[12]/td/table/tbody/tr/td[2]/table/tbody/tr/td[4]/table/tbody/tr/td[1]/input',alterado_ate)\n",
    "\n",
    "#Aplicar Filtro\n",
    "Clicar('/html/body/div[4]/div/table/tbody/tr[2]/td/table/tbody/tr/td[1]/button')\n",
    "\n",
    "#Imrimir\n",
    "esperar('/html/body/table[2]/tbody/tr[1]/td/div/table/tbody/tr[1]/td/table/tbody/tr/td[8]/button/table/tbody/tr/td[2]')\n",
    "Clicar('/html/body/table[2]/tbody/tr[1]/td/div/table/tbody/tr[1]/td/table/tbody/tr/td[8]/button/table/tbody/tr/td[2]')\n",
    "\n",
    "#Selecionar Relatório\n",
    "esperar('/html/body/div[4]/div/table/tbody/tr[2]/td[2]/div/table/tbody/tr[2]/td/table/tbody/tr/td/table/tbody/tr[1]/td/table/tbody/tr/td[2]/table/tbody/tr/td/select')\n",
    "Clicar('/html/body/div[4]/div/table/tbody/tr[2]/td[2]/div/table/tbody/tr[2]/td/table/tbody/tr/td/table/tbody/tr[1]/td/table/tbody/tr/td[2]/table/tbody/tr/td/select')\n",
    "\n",
    "#Espelho de conhecimento\n",
    "Clicar('/html/body/div[4]/div/table/tbody/tr[2]/td[2]/div/table/tbody/tr[2]/td/table/tbody/tr/td/table/tbody/tr[1]/td/table/tbody/tr/td[2]/table/tbody/tr/td/select/option[2]')\n",
    "\n",
    "#Imprimir\n",
    "Clicar('/html/body/div[4]/div/table/tbody/tr[2]/td[2]/div/table/tbody/tr[1]/td/table/tbody/tr/td/table/tbody/tr/td[1]/table/tbody/tr/td[2]/button')\n",
    "Clicar('/html/body/div[4]/div/table/tbody/tr[2]/td[2]/div/table/tbody/tr[1]/td/table/tbody/tr/td/table/tbody/tr/td[2]/table/tbody/tr/td/button')\n",
    "\n",
    "esperar('/html/body/table[2]/tbody/tr[1]/td/div/table/tbody/tr[1]/td/table/tbody/tr/td[9]/table/tbody/tr/td[3]/button')\n",
    "impressao()\n",
    "\n",
    "esperar('/html/body/table[2]/tbody/tr[1]/td/div/table/tbody/tr[1]/td/table/tbody/tr/td[9]/table/tbody/tr/td[3]/button')\n",
    "# verificador()\n",
    "# print(verificador_pag)\n",
    "# while verificador_pag == 1:\n",
    "#     Clicar('/html/body/table[2]/tbody/tr[1]/td/div/table/tbody/tr[1]/td/table/tbody/tr/td[9]/table/tbody/tr/td[3]/button')\n",
    "#     esperar('/html/body/table[2]/tbody/tr[1]/td/div/table/tbody/tr[4]/td/table/tbody/tr/td/table/tbody/tr[2]/td[3]/a')\n",
    "#     impressao()"
   ]
  },
  {
   "cell_type": "code",
   "execution_count": null,
   "id": "463d3565",
   "metadata": {},
   "outputs": [],
   "source": []
  },
  {
   "cell_type": "markdown",
   "id": "eb1d3f7b",
   "metadata": {},
   "source": [
    "<h2>Renomeie e limpe a planilha:<h2>"
   ]
  },
  {
   "cell_type": "code",
   "execution_count": 133,
   "id": "0e4e8780",
   "metadata": {},
   "outputs": [
    {
     "name": "stdout",
     "output_type": "stream",
     "text": [
      "Digite o número da planílha: 50\n"
     ]
    },
    {
     "name": "stderr",
     "output_type": "stream",
     "text": [
      "<ipython-input-133-b5c4e958e31e>:29: FutureWarning: As the xlwt package is no longer maintained, the xlwt engine will be removed in a future version of pandas. This is the only engine in pandas that supports writing in the xls format. Install openpyxl and write to an xlsx file instead. You can set the option io.excel.xls.writer to 'xlwt' to silence this warning. While this option is deprecated and will also raise a warning, it can be globally set and the warning suppressed.\n",
      "  CTe.to_excel('Aprovados do dia '+str(alterado_de_mod)+'.xls')\n",
      "<ipython-input-133-b5c4e958e31e>:34: FutureWarning: As the xlwt package is no longer maintained, the xlwt engine will be removed in a future version of pandas. This is the only engine in pandas that supports writing in the xls format. Install openpyxl and write to an xlsx file instead. You can set the option io.excel.xls.writer to 'xlwt' to silence this warning. While this option is deprecated and will also raise a warning, it can be globally set and the warning suppressed.\n",
      "  CTe.to_excel('Aprovados do dia '+str(alterado_de_mod)+'.xls')\n"
     ]
    }
   ],
   "source": [
    "planilha_espelho = int(input('Digite o número da planílha: '))\n",
    "move_and_rename()\n",
    "\n",
    "#Leio o documento\n",
    "time.sleep(1)\n",
    "CTe = pd.read_excel('Planilha Espelho '+str(planilha_espelho)+'.xls', header = 0)\n",
    "\n",
    "#Retiro espaços em branco\n",
    "CTe.columns = CTe.columns.str.strip()\n",
    "CTe['Emissão']= pd.to_datetime(CTe['Emissão']).dt.date\n",
    "CTe['Prev. Vcto']= pd.to_datetime(CTe['Prev. Vcto']).dt.date\n",
    "\n",
    "#Excluir as linhas MLGHI \n",
    "CTe = CTe.drop(CTe.columns[[0,5,6,8,10,11,12]],axis=1)\n",
    "CTe = CTe.dropna()\n",
    "\n",
    "today = date.today()\n",
    "weakday = str(date.weekday)\n",
    "\n",
    "if weakday == 'Monday':\n",
    "    yesterday = (date.today()-timedelta(3)).strftime('%d/%m/%Y')\n",
    "else:\n",
    "    yesterday = (date.today()-timedelta(1)).strftime('%d/%m/%Y')\n",
    "    \n",
    "# Vamos inserir a data de protocolo\n",
    "df2 = pd.DataFrame(np.array([['', '', '', '', '', '', '', ''],['', '', 'APROVADOS DO DIA', yesterday, '', '', '', '']]),columns=['Nº do D.T.', 'Chave CT-e', 'Notas Fiscais','Emissão','Prev. Vcto','R$ DT','Transportadora','Remetente'])    \n",
    "CTe = pd.concat([CTe, df2])\n",
    "\n",
    "CTe.to_excel('Aprovados do dia '+str(alterado_de_mod)+'.xls')"
   ]
  }
 ],
 "metadata": {
  "kernelspec": {
   "display_name": "Python 3",
   "language": "python",
   "name": "python3"
  },
  "language_info": {
   "codemirror_mode": {
    "name": "ipython",
    "version": 3
   },
   "file_extension": ".py",
   "mimetype": "text/x-python",
   "name": "python",
   "nbconvert_exporter": "python",
   "pygments_lexer": "ipython3",
   "version": "3.8.8"
  }
 },
 "nbformat": 4,
 "nbformat_minor": 5
}
